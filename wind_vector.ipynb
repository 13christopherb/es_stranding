{
 "cells": [
  {
   "cell_type": "code",
   "execution_count": 4,
   "metadata": {},
   "outputs": [],
   "source": [
    "import pandas as pd\n",
    "import numpy as np\n",
    "import pygrib as gb\n",
    "import os"
   ]
  },
  {
   "cell_type": "code",
   "execution_count": 6,
   "metadata": {},
   "outputs": [],
   "source": [
    "df = pd.read_csv('/Volumes/Seagate/ano_decade_wind.csv', parse_dates=['Data_Date', 'Validity_Date'], na_values='--')"
   ]
  },
  {
   "cell_type": "markdown",
   "metadata": {},
   "source": [
    "#### Calculate wind vectors\n",
    "\n",
    "Obtain a vector projection of the wind vector (in cartesian coordinates) on a unit vector pointing onshore."
   ]
  },
  {
   "cell_type": "code",
   "execution_count": 7,
   "metadata": {},
   "outputs": [],
   "source": [
    "def get_cartesian_projection(row, unit_vector):\n",
    "    wdir = row['Wind_Direction']\n",
    "    wdspd = row['Wind_Speed']\n",
    "    wdir -= 270\n",
    "    if wdir < 0:\n",
    "        wdir += 360\n",
    "    x = wdspd*np.cos(np.deg2rad(wdir))\n",
    "    y = wdspd*np.sin(np.deg2rad(wdir))\n",
    "    projection = np.dot([x,y], unit_vector)\n",
    "    return projection"
   ]
  },
  {
   "cell_type": "code",
   "execution_count": 8,
   "metadata": {},
   "outputs": [],
   "source": [
    "onshore_unit_vector = np.array([1*np.cos(np.deg2rad(45)), 1*np.sin(np.deg2rad(45))])"
   ]
  },
  {
   "cell_type": "code",
   "execution_count": 9,
   "metadata": {},
   "outputs": [],
   "source": [
    "df['Projection'] = df.apply(lambda row: get_cartesian_projection(row, onshore_unit_vector), axis=1)"
   ]
  },
  {
   "cell_type": "code",
   "execution_count": 10,
   "metadata": {},
   "outputs": [],
   "source": [
    "df['dDate'] = df['Validity_Date'] - df['Data_Date']"
   ]
  },
  {
   "cell_type": "code",
   "execution_count": 11,
   "metadata": {},
   "outputs": [],
   "source": [
    "df = df.loc[df.groupby('Validity_Date')['dDate'].idxmin()] #Get forecast closest to the validity date"
   ]
  },
  {
   "cell_type": "code",
   "execution_count": 12,
   "metadata": {},
   "outputs": [],
   "source": [
    "wdvectors = pd.read_csv('/Volumes/Seagate/ano_decade_wind_min.csv', parse_dates=['Validity_Date'])\n",
    "strandings = pd.read_csv('/Volumes/Seagate/2007-2018_es_strandings.csv', parse_dates=['Strand_Date'])"
   ]
  },
  {
   "cell_type": "code",
   "execution_count": 13,
   "metadata": {},
   "outputs": [],
   "source": [
    "def get_ano_nuevo_decade_window(df, time_lag):\n",
    "    averages = (df[['Validity_Date','Projection']].rolling('36h', on='Validity_Date')\n",
    "                .mean())\n",
    "    averages['Validity_Date'] = averages['Validity_Date'] + pd.Timedelta(str(time_lag) + 'h')\n",
    "    return averages"
   ]
  },
  {
   "cell_type": "code",
   "execution_count": 14,
   "metadata": {},
   "outputs": [],
   "source": [
    "averages = get_ano_nuevo_decade_window(wdvectors, 24)"
   ]
  },
  {
   "cell_type": "code",
   "execution_count": 25,
   "metadata": {},
   "outputs": [],
   "source": [
    "strandings = pd.merge(left=strandings, right=averages, left_on='Strand_Date', right_on='Validity_Date')\n",
    "strandings = strandings[(strandings['Strand_Date'].dt.dayofyear < 45) & (strandings['Age_Class'].isin(['Pup', 'Weaner']))]"
   ]
  }
 ],
 "metadata": {
  "kernelspec": {
   "display_name": "Python 3",
   "language": "python",
   "name": "python3"
  },
  "language_info": {
   "codemirror_mode": {
    "name": "ipython",
    "version": 3
   },
   "file_extension": ".py",
   "mimetype": "text/x-python",
   "name": "python",
   "nbconvert_exporter": "python",
   "pygments_lexer": "ipython3",
   "version": "3.6.5"
  }
 },
 "nbformat": 4,
 "nbformat_minor": 2
}
